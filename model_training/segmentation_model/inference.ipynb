{
 "cells": [
  {
   "cell_type": "code",
   "execution_count": 1,
   "metadata": {},
   "outputs": [
    {
     "name": "stderr",
     "output_type": "stream",
     "text": [
      "/home/anegi/anaconda3/envs/marker_env/lib/python3.12/site-packages/albumentations/__init__.py:24: UserWarning: A new version of Albumentations is available: 2.0.5 (you have 1.4.21). Upgrade using: pip install -U albumentations. To disable automatic update checks, set the environment variable NO_ALBUMENTATIONS_UPDATE to 1.\n",
      "  check_for_updates()\n"
     ]
    }
   ],
   "source": [
    "import numpy as np \n",
    "import torch\n",
    "from torchvision import transforms\n",
    "from PIL import Image\n",
    "from model import UNET \n",
    "import os \n",
    "import albumentations as A \n",
    "from albumentations.pytorch import ToTensorV2 \n",
    "import time "
   ]
  },
  {
   "cell_type": "code",
   "execution_count": 2,
   "metadata": {},
   "outputs": [
    {
     "name": "stderr",
     "output_type": "stream",
     "text": [
      "/tmp/ipykernel_1535324/1938294347.py:13: FutureWarning: You are using `torch.load` with `weights_only=False` (the current default value), which uses the default pickle module implicitly. It is possible to construct malicious pickle data which will execute arbitrary code during unpickling (See https://github.com/pytorch/pytorch/blob/main/SECURITY.md#untrusted-models for more details). In a future release, the default value for `weights_only` will be flipped to `True`. This limits the functions that could be executed during unpickling. Arbitrary objects will no longer be allowed to be loaded via this mode unless they are explicitly allowlisted by the user via `torch.serialization.add_safe_globals`. We recommend you start setting `weights_only=True` for any use case where you don't have full control of the loaded file. Please open an issue on GitHub for any issues related to this experimental feature.\n",
      "  load_checkpoint(torch.load(\"./models/my_checkpoint.pth.tar\", map_location=torch.device(DEVICE)), model)\n"
     ]
    },
    {
     "name": "stdout",
     "output_type": "stream",
     "text": [
      "=> Loading checkpoint\n"
     ]
    }
   ],
   "source": [
    "# Assuming your model is defined elsewhere\n",
    "# model = UNET(in_channels=3, out_channels=1).to(DEVICE)\n",
    "\n",
    "def load_checkpoint(checkpoint, model):\n",
    "    print(\"=> Loading checkpoint\")\n",
    "    model.load_state_dict(checkpoint[\"state_dict\"])\n",
    "\n",
    "DEVICE = \"cuda\" if torch.cuda.is_available() else \"cpu\" \n",
    "IMAGE_HEIGHT = 480 \n",
    "IMAGE_WIDTH = 640 \n",
    "\n",
    "model = UNET(in_channels=3, out_channels=1).to(DEVICE) \n",
    "load_checkpoint(torch.load(\"./models/my_checkpoint.pth.tar\", map_location=torch.device(DEVICE)), model) \n",
    "\n",
    "def inference(model, image): \n",
    "    model.eval()  # Set the model to evaluation mode\n",
    "    with torch.no_grad():  # Disable gradient calculation\n",
    "        preds = torch.sigmoid(model(image))\n",
    "        preds = (preds > 0.5).float()\n",
    "    return preds \n",
    "\n",
    "transform = A.Compose(\n",
    "    [\n",
    "        A.Resize(height=IMAGE_HEIGHT, width=IMAGE_WIDTH),\n",
    "        A.Normalize(\n",
    "            max_pixel_value=1.0,\n",
    "        ),\n",
    "        ToTensorV2(), \n",
    "    ]\n",
    ")\n",
    "\n",
    "# image_dir = \"./Test Images/sim_images_20250325/\" \n",
    "# image_dir = \"/home/anegi/abhay_ws/marker_detection_failure_recovery/segmentation_model/Test Images/sdg_markers_20250325-132238/rgb/\"\n",
    "image_dir = \"/home/anegi/abhay_ws/marker_detection_failure_recovery/segmentation_model/Test Images/GITAI/Top Right Frames/\"\n",
    "# image_dir = \"sim_images_20250314\" \n",
    "# image_dir = \"/home/anegi/abhay_ws/marker_detection_failure_recovery/output/markers_20250314-181037/rgb/\"\n",
    "all_images = [f for f in os.listdir(image_dir) if os.path.isfile(os.path.join(image_dir, f))]  # Filter out directories\n",
    "output_dir = os.path.join(image_dir,f\"predictions_{time.strftime('%Y%m%d-%H%M%S')}\")\n",
    "os.makedirs(output_dir, exist_ok=True)  # Create the output directory if it doesn't exist\n",
    "os.makedirs(os.path.join(output_dir, \"predictions\"), exist_ok=True)  # Create the output directory if it doesn't exist\n",
    "os.makedirs(os.path.join(output_dir, \"combined\"), exist_ok=True)  # Create the output directory if it doesn't exist\n",
    "\n",
    "for i in range(len(all_images)): \n",
    "    image_path = os.path.join(image_dir, all_images[i]) \n",
    "    image = Image.open(image_path).convert(\"RGB\")  # Open the image and convert to RGB\n",
    "    image = np.array(image)  # Convert the image to a numpy array\n",
    "    transformed = transform(image=image)  # Apply the transform\n",
    "    image_tensor = transformed[\"image\"].unsqueeze(0).to(DEVICE)  # Add batch dimension and move to device\n",
    "\n",
    "    pred = inference(model, image_tensor)\n",
    "\n",
    "    # Convert the prediction to a PIL image (single channel)\n",
    "    pred_image = transforms.ToPILImage()(pred.squeeze(0).cpu())\n",
    "\n",
    "    # Convert original image to PIL and resize it to the same size as the prediction\n",
    "    original_image = Image.fromarray(image)\n",
    "    original_image = original_image.resize((IMAGE_WIDTH, IMAGE_HEIGHT))\n",
    "\n",
    "    # Convert the predicted image to 3 channels (repeat the single channel across 3 channels)\n",
    "    pred_image_rgb = pred_image.convert(\"RGB\")\n",
    "    pred_image_rgb.save(os.path.join(output_dir, \"predictions\", all_images[i].removesuffix(\".png\") + \"_prediction.png\"))\n",
    "\n",
    "    # Concatenate the original image and the predicted image side by side\n",
    "    combined = np.concatenate((np.array(original_image), np.array(pred_image_rgb)), axis=1)\n",
    "\n",
    "    # Convert back to PIL Image and save the combined image\n",
    "    combined_image = Image.fromarray(combined)\n",
    "    combined_image.save(os.path.join(output_dir, \"combined\", all_images[i].removesuffix(\".png\") + \"_combined.png\"))\n"
   ]
  }
 ],
 "metadata": {
  "kernelspec": {
   "display_name": "marker_env",
   "language": "python",
   "name": "python3"
  },
  "language_info": {
   "codemirror_mode": {
    "name": "ipython",
    "version": 3
   },
   "file_extension": ".py",
   "mimetype": "text/x-python",
   "name": "python",
   "nbconvert_exporter": "python",
   "pygments_lexer": "ipython3",
   "version": "3.12.7"
  }
 },
 "nbformat": 4,
 "nbformat_minor": 2
}
